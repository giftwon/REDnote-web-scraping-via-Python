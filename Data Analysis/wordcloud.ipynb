{
 "cells": [
  {
   "cell_type": "code",
   "execution_count": 11,
   "metadata": {},
   "outputs": [
    {
     "name": "stdout",
     "output_type": "stream",
     "text": [
      "^C\n",
      "Note: you may need to restart the kernel to use updated packages.\n"
     ]
    },
    {
     "name": "stdout",
     "output_type": "stream",
     "text": [
      "Requirement already satisfied: wordcloud in c:\\users\\hp\\appdata\\local\\programs\\python\\python312\\lib\\site-packages (1.9.4)\n",
      "Requirement already satisfied: matplotlib in c:\\users\\hp\\appdata\\local\\programs\\python\\python312\\lib\\site-packages (3.9.2)\n",
      "Requirement already satisfied: numpy>=1.6.1 in c:\\users\\hp\\appdata\\local\\programs\\python\\python312\\lib\\site-packages (from wordcloud) (2.1.3)\n",
      "Requirement already satisfied: pillow in c:\\users\\hp\\appdata\\local\\programs\\python\\python312\\lib\\site-packages (from wordcloud) (11.0.0)\n",
      "Requirement already satisfied: contourpy>=1.0.1 in c:\\users\\hp\\appdata\\local\\programs\\python\\python312\\lib\\site-packages (from matplotlib) (1.3.1)\n",
      "Requirement already satisfied: cycler>=0.10 in c:\\users\\hp\\appdata\\local\\programs\\python\\python312\\lib\\site-packages (from matplotlib) (0.12.1)\n",
      "Requirement already satisfied: fonttools>=4.22.0 in c:\\users\\hp\\appdata\\local\\programs\\python\\python312\\lib\\site-packages (from matplotlib) (4.55.0)\n",
      "Requirement already satisfied: kiwisolver>=1.3.1 in c:\\users\\hp\\appdata\\local\\programs\\python\\python312\\lib\\site-packages (from matplotlib) (1.4.7)\n",
      "Requirement already satisfied: packaging>=20.0 in c:\\users\\hp\\appdata\\roaming\\python\\python312\\site-packages (from matplotlib) (24.1)\n",
      "Requirement already satisfied: pyparsing>=2.3.1 in c:\\users\\hp\\appdata\\local\\programs\\python\\python312\\lib\\site-packages (from matplotlib) (3.2.0)\n",
      "Requirement already satisfied: python-dateutil>=2.7 in c:\\users\\hp\\appdata\\roaming\\python\\python312\\site-packages (from matplotlib) (2.9.0.post0)\n",
      "Requirement already satisfied: six>=1.5 in c:\\users\\hp\\appdata\\roaming\\python\\python312\\site-packages (from python-dateutil>=2.7->matplotlib) (1.16.0)\n"
     ]
    },
    {
     "name": "stderr",
     "output_type": "stream",
     "text": [
      "\n",
      "[notice] A new release of pip is available: 24.2 -> 24.3.1\n",
      "[notice] To update, run: python.exe -m pip install --upgrade pip\n"
     ]
    }
   ],
   "source": [
    "pip install wordcloud matplotlib"
   ]
  },
  {
   "cell_type": "code",
   "execution_count": null,
   "metadata": {},
   "outputs": [],
   "source": [
    "from wordcloud import WordCloud\n",
    "import matplotlib.pyplot as plt\n",
    "import numpy as np\n",
    "from PIL import Image\n",
    "import re\n",
    "\n",
    "# Read the content of the text file\n",
    "file_path = r'C:\\Users\\HP\\Desktop\\trump.txt'  # Path to your text file\n",
    "with open(file_path, 'r', encoding='utf-8') as file:\n",
    "    text = file.read()\n",
    "\n",
    "# Read the first stopwords file and add each line's stopword to the stopwords list\n",
    "stopwords_file_path_1 = r'C:\\Users\\HP\\Desktop\\cn_stopwords.txt'  # Path to the Chinese stopwords file\n",
    "with open(stopwords_file_path_1, 'r', encoding='utf-8') as file:\n",
    "    stopwords_1 = set(file.read().splitlines())  # Read file content, split by lines, and convert to a set\n",
    "\n",
    "# Read the second stopwords file and add each line's stopword to the stopwords list\n",
    "stopwords_file_path_2 = r'C:\\Users\\HP\\Desktop\\stopwords_english.txt'  # Path to the English stopwords file\n",
    "with open(stopwords_file_path_2, 'r', encoding='utf-8') as file:\n",
    "    stopwords_2 = set(file.read().splitlines())  # Read file content, split by lines, and convert to a set\n",
    "\n",
    "# Combine both stopword sets\n",
    "stopwords = stopwords_1.union(stopwords_2)\n",
    "\n",
    "# Clean the text: remove stopwords and single Chinese characters\n",
    "def clean_text(text, stopwords):\n",
    "    # Use regular expressions to remove stopwords\n",
    "    words = text.split()\n",
    "    cleaned_words = [word for word in words if word not in stopwords]\n",
    "    \n",
    "    # Remove single Chinese characters (i.e., characters with length 1)\n",
    "    cleaned_words = [word for word in cleaned_words if len(word) > 1]\n",
    "    \n",
    "    return \" \".join(cleaned_words)\n",
    "\n",
    "# Clean the text: remove stopwords\n",
    "def clean_text(text, stopwords):\n",
    "    # Use regular expressions to remove stopwords\n",
    "    words = text.split()\n",
    "    cleaned_words = [word for word in words if word not in stopwords]\n",
    "    return \" \".join(cleaned_words)\n",
    "\n",
    "  # Remove single English letters\n",
    "    cleaned_words = [word for word in cleaned_words if len(word) > 1 or not word.isalpha()]\n",
    "    \n",
    "    return \" \".join(cleaned_words)\n",
    "\n",
    "# Clean meaningless words from the text\n",
    "cleaned_text = clean_text(text, stopwords)\n",
    "\n",
    "# Load the cloud shape image\n",
    "mask_image = np.array(Image.open(r'C:\\Users\\HP\\Desktop\\cloud_shape.png'))\n",
    "\n",
    "# Invert the colors of the image: turn the white background to black, and the cloud shape to white\n",
    "mask_image = 255 - mask_image  # 255 is white, 0 is black, inverting the colors\n",
    "\n",
    "# Generate the word cloud using 'Reds' and 'Blues' color schemes\n",
    "wordcloud = WordCloud(\n",
    "    width=800,  # Width of the word cloud image\n",
    "    height=400,  # Height of the word cloud image\n",
    "    background_color='white',  # Background color\n",
    "    max_words=200,  # Maximum number of words to display\n",
    "    mask=mask_image,  # Use the inverted cloud shape image\n",
    "    contour_width=1,  # Set contour width\n",
    "    contour_color='white',  # Set contour color\n",
    "    font_path=r'C:\\Windows\\Fonts\\msyh.ttc',  # Set font path for Chinese characters\n",
    "    colormap='coolwarm',  # Use 'coolwarm' color scheme (including red-blue gradient)\n",
    "    stopwords=stopwords  # Use custom stopwords\n",
    ").generate(cleaned_text)\n",
    "\n",
    "# Display the word cloud\n",
    "plt.figure(figsize=(12, 8))  # Set the size of the word cloud display\n",
    "plt.imshow(wordcloud, interpolation='bilinear')  # Smooth display\n",
    "plt.axis('off')  # Turn off axis\n",
    "plt.show()\n",
    "\n",
    "# Save the word cloud image\n",
    "wordcloud.to_file(r'C:\\Users\\HP\\Desktop\\wordcloud_with_trump.png')  # Save the word cloud image to the desktop\n"
   ]
  }
 ],
 "metadata": {
  "colab": {
   "provenance": []
  },
  "kernelspec": {
   "display_name": "Python 3",
   "name": "python3"
  },
  "language_info": {
   "codemirror_mode": {
    "name": "ipython",
    "version": 3
   },
   "file_extension": ".py",
   "mimetype": "text/x-python",
   "name": "python",
   "nbconvert_exporter": "python",
   "pygments_lexer": "ipython3",
   "version": "3.12.6"
  }
 },
 "nbformat": 4,
 "nbformat_minor": 0
}
