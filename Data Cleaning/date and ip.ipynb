{
 "cells": [
  {
   "cell_type": "code",
   "execution_count": null,
   "metadata": {},
   "outputs": [],
   "source": [
    "import pandas as pd\n",
    "import re\n",
    "from datetime import datetime, timedelta\n",
    "\n",
    "df = pd.read_excel(r'G:\\desktop\\data分词.xlsx')\n",
    "\n",
    "column_name = 'Date'  \n",
    "\n",
    "def extract_ip(text):\n",
    "    ip_pattern = r'(\\d{1,3}\\.\\d{1,3}\\.\\d{1,3}\\.\\d{1,3})'\n",
    "    match = re.search(ip_pattern, text)\n",
    "    return match.group(0) if match else None\n",
    "\n",
    "def extract_and_format_date(text):\n",
    "    if '编辑于' in text:\n",
    "        date_pattern = r'编辑于 (\\d{1,2}-\\d{1,2})'\n",
    "        date_match = re.search(date_pattern, text)\n",
    "        if date_match:\n",
    "            date_str = date_match.group(1)\n",
    "            year = datetime.now().year\n",
    "            return datetime.strptime(f'{year}-{date_str}', '%Y-%m-%d')\n",
    "        \n",
    "        day_pattern = r'编辑于 (\\d+) 天前'\n",
    "        day_match = re.search(day_pattern, text)\n",
    "        if day_match:\n",
    "            days_ago = int(day_match.group(1))\n",
    "            return datetime.now() - timedelta(days=days_ago)\n",
    "    \n",
    "    standard_date_pattern = r'(\\d{4}-\\d{2}-\\d{2} \\d{2}:\\d{2}:\\d{2})'\n",
    "    standard_date_match = re.search(standard_date_pattern, text)\n",
    "    if standard_date_match:\n",
    "        return datetime.strptime(standard_date_match.group(1), '%Y-%m-%d %H:%M:%S')\n",
    "    \n",
    "    return None\n",
    "\n",
    "df['IP'] = df[column_name].apply(extract_ip)\n",
    "df['Date'] = df[column_name].apply(extract_and_format_date)\n",
    "\n",
    "df['Date'] = pd.to_datetime(df['Date'], errors='coerce')\n",
    "\n",
    "df.to_excel('processed_file.xlsx', index=False)\n",
    "\n",
    "print(df.head())\n"
   ]
  }
 ],
 "metadata": {
  "colab": {
   "provenance": []
  },
  "kernelspec": {
   "display_name": "Python 3",
   "name": "python3"
  },
  "language_info": {
   "codemirror_mode": {
    "name": "ipython",
    "version": 3
   },
   "file_extension": ".py",
   "mimetype": "text/x-python",
   "name": "python",
   "nbconvert_exporter": "python",
   "pygments_lexer": "ipython3",
   "version": "3.11.9"
  }
 },
 "nbformat": 4,
 "nbformat_minor": 0
}
